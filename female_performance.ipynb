{
  "nbformat": 4,
  "nbformat_minor": 0,
  "metadata": {
    "colab": {
      "name": "female_performance.ipynb",
      "provenance": [],
      "collapsed_sections": [],
      "include_colab_link": true
    },
    "kernelspec": {
      "name": "python3",
      "display_name": "Python 3"
    },
    "language_info": {
      "name": "python"
    }
  },
  "cells": [
    {
      "cell_type": "markdown",
      "metadata": {
        "id": "view-in-github",
        "colab_type": "text"
      },
      "source": [
        "<a href=\"https://colab.research.google.com/github/AB-Kafi/ML_and_datamining/blob/main/female_performance.ipynb\" target=\"_parent\"><img src=\"https://colab.research.google.com/assets/colab-badge.svg\" alt=\"Open In Colab\"/></a>"
      ]
    },
    {
      "cell_type": "markdown",
      "metadata": {
        "id": "hG_AqlnwMyv5"
      },
      "source": [
        "google "
      ]
    },
    {
      "cell_type": "code",
      "metadata": {
        "colab": {
          "base_uri": "https://localhost:8080/"
        },
        "id": "ET8HUGUZMmvx",
        "outputId": "4b4e9474-25bd-4eac-d3ea-26fd48f2b287"
      },
      "source": [
        "from google.colab import drive\n",
        "drive.mount('/content/gdrive')"
      ],
      "execution_count": null,
      "outputs": [
        {
          "output_type": "stream",
          "name": "stdout",
          "text": [
            "Drive already mounted at /content/gdrive; to attempt to forcibly remount, call drive.mount(\"/content/gdrive\", force_remount=True).\n"
          ]
        }
      ]
    },
    {
      "cell_type": "code",
      "metadata": {
        "id": "BL3Gt-hKOgdL"
      },
      "source": [
        "import pandas as pd "
      ],
      "execution_count": null,
      "outputs": []
    },
    {
      "cell_type": "code",
      "metadata": {
        "id": "Q1uboGvvPDgH"
      },
      "source": [
        "def counter(dataframe_column):\n",
        "    count = 0\n",
        "    for i in dataframe_column:\n",
        "        if i == 'Female':\n",
        "            count += 1\n",
        "    return count,count/len(dataframe_column), len(dataframe_column)"
      ],
      "execution_count": null,
      "outputs": []
    },
    {
      "cell_type": "markdown",
      "metadata": {
        "id": "f-EfKsOScOxF"
      },
      "source": [
        "**CSE**"
      ]
    },
    {
      "cell_type": "code",
      "metadata": {
        "id": "g41M5DbqcOha"
      },
      "source": [
        "cse191=pd.read_excel('/content/gdrive/MyDrive/Machine_learning_Project/female_performance2/CSE/CSE191.xlsx')\n",
        "#2018\n",
        "#cse183\n",
        "cse182 = pd.read_excel('/content/gdrive/MyDrive/Machine_learning_Project/female_performance2/CSE/CSE182.xlsx')\n",
        "#cse181\n",
        "#2017\n",
        "cse173 = pd.read_excel('/content/gdrive/MyDrive/Machine_learning_Project/female_performance2/CSE/CSE173.xlsx')\n",
        "cse172 = pd.read_excel('/content/gdrive/MyDrive/Machine_learning_Project/female_performance2/CSE/CSE172.xlsx')\n",
        "cse171 = pd.read_excel('/content/gdrive/MyDrive/Machine_learning_Project/female_performance2/CSE/CSE171.xlsx')\n",
        "#2016\n",
        "cse163 = pd.read_excel('/content/gdrive/MyDrive/Machine_learning_Project/female_performance2/CSE/CSE163.xlsx')\n",
        "cse162 = pd.read_excel('/content/gdrive/MyDrive/Machine_learning_Project/female_performance2/CSE/CSE162.xlsx')\n",
        "cse161 = pd.read_excel('/content/gdrive/MyDrive/Machine_learning_Project/female_performance2/CSE/CSE161.xlsx')\n",
        "#2015\n",
        "cse153 = pd.read_excel('/content/gdrive/MyDrive/Machine_learning_Project/female_performance2/CSE/CSE153.xlsx')\n",
        "cse152 = pd.read_excel('/content/gdrive/MyDrive/Machine_learning_Project/female_performance2/CSE/CSE152.xlsx')\n",
        "cse151 = pd.read_excel('/content/gdrive/MyDrive/Machine_learning_Project/female_performance2/CSE/CSE151.xlsx')"
      ],
      "execution_count": null,
      "outputs": []
    },
    {
      "cell_type": "markdown",
      "metadata": {
        "id": "q4njYohUnfdc"
      },
      "source": [
        "**BBA**"
      ]
    },
    {
      "cell_type": "code",
      "metadata": {
        "id": "5rlrWNBKniFV"
      },
      "source": [
        "bba191 = pd.read_excel('/content/gdrive/MyDrive/Machine_learning_Project/female_performance2/BBA/BBA191.xlsx')\n",
        "#2018\n",
        "bba183 = pd.read_excel(\"/content/gdrive/MyDrive/Machine_learning_Project/female_performance2/BBA/BBA183.xlsx\")\n",
        "#bba182\n",
        "#bba181\n",
        "#2017\n",
        "bba173 = pd.read_excel(\"/content/gdrive/MyDrive/Machine_learning_Project/female_performance2/BBA/BBA173.xlsx\")\n",
        "bba172 = pd.read_excel(\"/content/gdrive/MyDrive/Machine_learning_Project/female_performance2/BBA/BBA172.xlsx\")\n",
        "bba171 = pd.read_excel(\"/content/gdrive/MyDrive/Machine_learning_Project/female_performance2/BBA/BBA171.xlsx\")\n",
        "#2016\n",
        "bba163 = pd.read_excel(\"/content/gdrive/MyDrive/Machine_learning_Project/female_performance2/BBA/BBA163.xlsx\")\n",
        "bba162 = pd.read_excel(\"/content/gdrive/MyDrive/Machine_learning_Project/female_performance2/BBA/BBA162.xlsx\")\n",
        "bba161 = pd.read_excel(\"/content/gdrive/MyDrive/Machine_learning_Project/female_performance2/BBA/BBA161.xlsx\")\n",
        "#2015\n",
        "bba153 = pd.read_excel(\"/content/gdrive/MyDrive/Machine_learning_Project/female_performance2/BBA/BBA153.xlsx\")\n",
        "bba152 = pd.read_excel(\"/content/gdrive/MyDrive/Machine_learning_Project/female_performance2/BBA/BBA152.xlsx\")\n",
        "bba151 = pd.read_excel(\"/content/gdrive/MyDrive/Machine_learning_Project/female_performance2/BBA/BBA151.xlsx\")"
      ],
      "execution_count": null,
      "outputs": []
    },
    {
      "cell_type": "markdown",
      "metadata": {
        "id": "IPobB503n_V7"
      },
      "source": [
        "**LLB**"
      ]
    },
    {
      "cell_type": "code",
      "metadata": {
        "id": "qYPL_sMvoPN0"
      },
      "source": [
        "llb191 = pd.read_excel('/content/gdrive/MyDrive/Machine_learning_Project/female_performance2/LLB/LLB191.xlsx')\n",
        "#2018\n",
        "llb183 = pd.read_excel('/content/gdrive/MyDrive/Machine_learning_Project/female_performance2/LLB/LLB183.xlsx')\n",
        "#llb182 \n",
        "#llb181\n",
        "#2017\n",
        "llb173= pd.read_excel('/content/gdrive/MyDrive/Machine_learning_Project/female_performance2/LLB/LLB173.xlsx')\n",
        "llb172= pd.read_excel('/content/gdrive/MyDrive/Machine_learning_Project/female_performance2/LLB/LLB172.xlsx')\n",
        "llb171= pd.read_excel('/content/gdrive/MyDrive/Machine_learning_Project/female_performance2/LLB/LLB171.xlsx')\n",
        "#2016\n",
        "llb163= pd.read_excel('/content/gdrive/MyDrive/Machine_learning_Project/female_performance2/LLB/LLB163.xlsx')\n",
        "llb162= pd.read_excel('/content/gdrive/MyDrive/Machine_learning_Project/female_performance2/LLB/LLB162.xlsx')\n",
        "llb161= pd.read_excel('/content/gdrive/MyDrive/Machine_learning_Project/female_performance2/LLB/LLB161.xlsx')\n",
        "#2015\n",
        "llb153= pd.read_excel('/content/gdrive/MyDrive/Machine_learning_Project/female_performance2/LLB/LLB153.xlsx')\n",
        "llb152= pd.read_excel('/content/gdrive/MyDrive/Machine_learning_Project/female_performance2/LLB/LLB152.xlsx')\n",
        "llb151= pd.read_excel('/content/gdrive/MyDrive/Machine_learning_Project/female_performance2/LLB/LLB151.xlsx')"
      ],
      "execution_count": null,
      "outputs": []
    },
    {
      "cell_type": "markdown",
      "metadata": {
        "id": "CMrsbJUan1b0"
      },
      "source": [
        "**EEE**"
      ]
    },
    {
      "cell_type": "code",
      "metadata": {
        "id": "ssNUxQegn3qm"
      },
      "source": [
        "eee191 = pd.read_excel('/content/gdrive/MyDrive/Machine_learning_Project/female_performance2/EEE/EEE191.xlsx')\n",
        "#2018\n",
        "eee183 = pd.read_excel('/content/gdrive/MyDrive/Machine_learning_Project/female_performance2/EEE/EEE183.xlsx')\n",
        "#eee182\n",
        "#eee181\n",
        "#2017\n",
        "eee173 = pd.read_excel('/content/gdrive/MyDrive/Machine_learning_Project/female_performance2/EEE/EEE173.xlsx')\n",
        "eee172 = pd.read_excel('/content/gdrive/MyDrive/Machine_learning_Project/female_performance2/EEE/EEE172.xlsx')\n",
        "eee171 = pd.read_excel('/content/gdrive/MyDrive/Machine_learning_Project/female_performance2/EEE/EEE171.xlsx')\n",
        "#2016\n",
        "eee163 = pd.read_excel('/content/gdrive/MyDrive/Machine_learning_Project/female_performance2/EEE/EEE163.xlsx')\n",
        "eee162 = pd.read_excel('/content/gdrive/MyDrive/Machine_learning_Project/female_performance2/EEE/EEE162.xlsx')\n",
        "eee161 = pd.read_excel('/content/gdrive/MyDrive/Machine_learning_Project/female_performance2/EEE/EEE161.xlsx')\n",
        "#2015\n",
        "eee153 = pd.read_excel('/content/gdrive/MyDrive/Machine_learning_Project/female_performance2/EEE/EEE153.xlsx')\n",
        "eee152 = pd.read_excel('/content/gdrive/MyDrive/Machine_learning_Project/female_performance2/EEE/EEE152.xlsx')\n",
        "eee151 = pd.read_excel('/content/gdrive/MyDrive/Machine_learning_Project/female_performance2/EEE/EEE151.xlsx')"
      ],
      "execution_count": null,
      "outputs": []
    },
    {
      "cell_type": "code",
      "metadata": {
        "colab": {
          "base_uri": "https://localhost:8080/",
          "height": 363
        },
        "id": "cKBa2I87INUL",
        "outputId": "4373ecf3-a369-4ad3-8299-842b660a5659"
      },
      "source": [
        "eee173.head(10)"
      ],
      "execution_count": null,
      "outputs": [
        {
          "output_type": "execute_result",
          "data": {
            "text/html": [
              "<div>\n",
              "<style scoped>\n",
              "    .dataframe tbody tr th:only-of-type {\n",
              "        vertical-align: middle;\n",
              "    }\n",
              "\n",
              "    .dataframe tbody tr th {\n",
              "        vertical-align: top;\n",
              "    }\n",
              "\n",
              "    .dataframe thead th {\n",
              "        text-align: right;\n",
              "    }\n",
              "</style>\n",
              "<table border=\"1\" class=\"dataframe\">\n",
              "  <thead>\n",
              "    <tr style=\"text-align: right;\">\n",
              "      <th></th>\n",
              "      <th>ID</th>\n",
              "      <th>SEX</th>\n",
              "      <th>1st</th>\n",
              "      <th>2nd</th>\n",
              "      <th>3rd</th>\n",
              "      <th>4th</th>\n",
              "      <th>5th</th>\n",
              "      <th>6th</th>\n",
              "      <th>7th</th>\n",
              "    </tr>\n",
              "  </thead>\n",
              "  <tbody>\n",
              "    <tr>\n",
              "      <th>0</th>\n",
              "      <td>173-33-4260</td>\n",
              "      <td>Male</td>\n",
              "      <td>3.89</td>\n",
              "      <td>3.81</td>\n",
              "      <td>3.77</td>\n",
              "      <td>3.95</td>\n",
              "      <td>3.88</td>\n",
              "      <td>3.84</td>\n",
              "      <td>4.00</td>\n",
              "    </tr>\n",
              "    <tr>\n",
              "      <th>1</th>\n",
              "      <td>173-33-4261</td>\n",
              "      <td>Male</td>\n",
              "      <td>0.00</td>\n",
              "      <td>0.00</td>\n",
              "      <td>0.00</td>\n",
              "      <td>0.00</td>\n",
              "      <td>0.00</td>\n",
              "      <td>0.00</td>\n",
              "      <td>0.00</td>\n",
              "    </tr>\n",
              "    <tr>\n",
              "      <th>2</th>\n",
              "      <td>173-33-4262</td>\n",
              "      <td>Male</td>\n",
              "      <td>3.77</td>\n",
              "      <td>3.44</td>\n",
              "      <td>2.46</td>\n",
              "      <td>2.32</td>\n",
              "      <td>2.63</td>\n",
              "      <td>2.41</td>\n",
              "      <td>3.06</td>\n",
              "    </tr>\n",
              "    <tr>\n",
              "      <th>3</th>\n",
              "      <td>173-33-4263</td>\n",
              "      <td>Male</td>\n",
              "      <td>3.41</td>\n",
              "      <td>3.50</td>\n",
              "      <td>1.92</td>\n",
              "      <td>2.57</td>\n",
              "      <td>2.95</td>\n",
              "      <td>2.80</td>\n",
              "      <td>3.53</td>\n",
              "    </tr>\n",
              "    <tr>\n",
              "      <th>4</th>\n",
              "      <td>173-33-4264</td>\n",
              "      <td>Male</td>\n",
              "      <td>3.80</td>\n",
              "      <td>3.56</td>\n",
              "      <td>3.73</td>\n",
              "      <td>3.91</td>\n",
              "      <td>2.71</td>\n",
              "      <td>2.68</td>\n",
              "      <td>2.73</td>\n",
              "    </tr>\n",
              "    <tr>\n",
              "      <th>5</th>\n",
              "      <td>173-33-4265</td>\n",
              "      <td>Male</td>\n",
              "      <td>3.98</td>\n",
              "      <td>4.00</td>\n",
              "      <td>3.81</td>\n",
              "      <td>3.79</td>\n",
              "      <td>3.66</td>\n",
              "      <td>3.66</td>\n",
              "      <td>4.00</td>\n",
              "    </tr>\n",
              "    <tr>\n",
              "      <th>6</th>\n",
              "      <td>173-33-4266</td>\n",
              "      <td>Male</td>\n",
              "      <td>0.00</td>\n",
              "      <td>0.00</td>\n",
              "      <td>0.00</td>\n",
              "      <td>0.00</td>\n",
              "      <td>0.00</td>\n",
              "      <td>0.00</td>\n",
              "      <td>0.00</td>\n",
              "    </tr>\n",
              "    <tr>\n",
              "      <th>7</th>\n",
              "      <td>173-33-4267</td>\n",
              "      <td>Male</td>\n",
              "      <td>3.30</td>\n",
              "      <td>3.13</td>\n",
              "      <td>2.56</td>\n",
              "      <td>3.11</td>\n",
              "      <td>3.02</td>\n",
              "      <td>2.88</td>\n",
              "      <td>3.52</td>\n",
              "    </tr>\n",
              "    <tr>\n",
              "      <th>8</th>\n",
              "      <td>173-33-4268</td>\n",
              "      <td>Male</td>\n",
              "      <td>3.91</td>\n",
              "      <td>3.88</td>\n",
              "      <td>3.69</td>\n",
              "      <td>3.73</td>\n",
              "      <td>3.45</td>\n",
              "      <td>3.70</td>\n",
              "      <td>3.85</td>\n",
              "    </tr>\n",
              "    <tr>\n",
              "      <th>9</th>\n",
              "      <td>173-33-4269</td>\n",
              "      <td>Male</td>\n",
              "      <td>3.91</td>\n",
              "      <td>3.94</td>\n",
              "      <td>3.71</td>\n",
              "      <td>3.79</td>\n",
              "      <td>3.79</td>\n",
              "      <td>3.63</td>\n",
              "      <td>4.00</td>\n",
              "    </tr>\n",
              "  </tbody>\n",
              "</table>\n",
              "</div>"
            ],
            "text/plain": [
              "            ID   SEX   1st   2nd   3rd   4th   5th   6th   7th\n",
              "0  173-33-4260  Male  3.89  3.81  3.77  3.95  3.88  3.84  4.00\n",
              "1  173-33-4261  Male  0.00  0.00  0.00  0.00  0.00  0.00  0.00\n",
              "2  173-33-4262  Male  3.77  3.44  2.46  2.32  2.63  2.41  3.06\n",
              "3  173-33-4263  Male  3.41  3.50  1.92  2.57  2.95  2.80  3.53\n",
              "4  173-33-4264  Male  3.80  3.56  3.73  3.91  2.71  2.68  2.73\n",
              "5  173-33-4265  Male  3.98  4.00  3.81  3.79  3.66  3.66  4.00\n",
              "6  173-33-4266  Male  0.00  0.00  0.00  0.00  0.00  0.00  0.00\n",
              "7  173-33-4267  Male  3.30  3.13  2.56  3.11  3.02  2.88  3.52\n",
              "8  173-33-4268  Male  3.91  3.88  3.69  3.73  3.45  3.70  3.85\n",
              "9  173-33-4269  Male  3.91  3.94  3.71  3.79  3.79  3.63  4.00"
            ]
          },
          "metadata": {},
          "execution_count": 9
        }
      ]
    },
    {
      "cell_type": "markdown",
      "metadata": {
        "id": "PFy71k1l0Fp4"
      },
      "source": [
        "**numbers**"
      ]
    },
    {
      "cell_type": "code",
      "metadata": {
        "id": "oxGPIcxj0FJ0"
      },
      "source": [
        "#counter Cse\n",
        "cse_total = list((counter(cse191['SEX']),counter(cse171['SEX']),counter(cse172['SEX']),counter(cse173['SEX']),counter(cse161['SEX']),counter(cse162['SEX']),counter(cse163['SEX']),counter(cse151['SEX']),counter(cse152['SEX']),counter(cse153['SEX'])))"
      ],
      "execution_count": null,
      "outputs": []
    },
    {
      "cell_type": "code",
      "metadata": {
        "id": "iaktsY5s7HFu"
      },
      "source": [
        "#counter eee\n",
        "eee_total = list((counter(eee191['SEX']),counter(eee171['SEX']),counter(eee172['SEX']),counter(eee173['SEX']),counter(eee161['SEX']),counter(eee162['SEX']),counter(eee163['SEX']),counter(eee151['SEX']),counter(eee152['SEX']),counter(eee153['SEX'])))"
      ],
      "execution_count": null,
      "outputs": []
    },
    {
      "cell_type": "code",
      "metadata": {
        "id": "iRXLHLYX8E_d"
      },
      "source": [
        "#counter bba\n",
        "bba_total = list((counter(bba191['SEX']),counter(bba171['SEX']),counter(bba172['SEX']),counter(bba173['SEX']),counter(bba161['SEX']),counter(bba162['SEX']),counter(bba163['SEX']),counter(bba151['SEX']),counter(bba152['SEX']),counter(bba153['SEX'])))"
      ],
      "execution_count": null,
      "outputs": []
    },
    {
      "cell_type": "code",
      "metadata": {
        "id": "XV3d2Y1u8b-S"
      },
      "source": [
        "#counter llb\n",
        "llb_total = list((counter(llb191['SEX']),counter(llb171['SEX']),counter(llb172['SEX']),counter(llb173['SEX']),counter(llb161['SEX']),counter(llb162['SEX']),counter(llb163['SEX']),counter(llb151['SEX']),counter(llb152['SEX']),counter(llb153['SEX'])))"
      ],
      "execution_count": null,
      "outputs": []
    },
    {
      "cell_type": "code",
      "metadata": {
        "colab": {
          "base_uri": "https://localhost:8080/"
        },
        "id": "wYJhvMnL3I4-",
        "outputId": "21ab6769-41e8-4294-af9f-579fdb836645"
      },
      "source": [
        "print(cse_total)\n",
        "print(eee_total)"
      ],
      "execution_count": null,
      "outputs": [
        {
          "output_type": "stream",
          "name": "stdout",
          "text": [
            "[(215, 0.22279792746113988, 965), (224, 0.21832358674463936, 1026), (112, 0.1644640234948605, 681), (38, 0.16033755274261605, 237), (150, 0.15544041450777202, 965), (89, 0.15008431703204048, 593), (40, 0.14035087719298245, 285), (155, 0.18256772673733804, 849), (125, 0.1528117359413203, 818), (53, 0.14402173913043478, 368)]\n",
            "[(24, 0.09375, 256), (7, 0.04294478527607362, 163), (18, 0.06164383561643835, 292), (15, 0.08771929824561403, 171), (15, 0.07936507936507936, 189), (8, 0.02888086642599278, 277), (12, 0.05240174672489083, 229), (24, 0.07894736842105263, 304), (7, 0.03626943005181347, 193), (12, 0.05, 240)]\n"
          ]
        }
      ]
    },
    {
      "cell_type": "code",
      "metadata": {
        "colab": {
          "base_uri": "https://localhost:8080/"
        },
        "id": "t2LJBFBKtjMj",
        "outputId": "e23b7294-984c-451b-e635-086c84cf5229"
      },
      "source": [
        "#finding % for technical (totalfemale / toatlstudent)\n",
        "#cse17\n",
        "female19_tech = (cse_total[0][0]+eee_total[0][0])/(cse_total[0][2]+eee_total[0][2])\n",
        "female17_tech = (cse_total[1][0]+cse_total[2][0]+cse_total[3][0]+eee_total[1][0]+eee_total[2][0]+eee_total[3][0])/(cse_total[1][2]+cse_total[2][2]+cse_total[3][2]+eee_total[1][2]+eee_total[2][2]+eee_total[3][2])\n",
        "female16_tech = (cse_total[4][0]+cse_total[5][0]+cse_total[6][0]+eee_total[4][0]+eee_total[5][0]+eee_total[6][0])/(cse_total[4][2]+cse_total[5][2]+cse_total[6][2]+eee_total[4][2]+eee_total[5][2]+eee_total[6][2])\n",
        "female15_tech = (cse_total[7][0]+cse_total[8][0]+cse_total[9][0]+eee_total[7][0]+eee_total[8][0]+eee_total[9][0])/(cse_total[7][2]+cse_total[8][2]+cse_total[9][2]+eee_total[7][2]+eee_total[8][2]+eee_total[9][2])\n",
        "print(female17_tech ,'vs', female16_tech)"
      ],
      "execution_count": null,
      "outputs": [
        {
          "output_type": "stream",
          "name": "stdout",
          "text": [
            "0.16108949416342414 vs 0.12371946414499606\n"
          ]
        }
      ]
    },
    {
      "cell_type": "code",
      "metadata": {
        "id": "QEuJhuDKDp2r",
        "colab": {
          "base_uri": "https://localhost:8080/"
        },
        "outputId": "285450e2-daf2-4cd2-fcb4-35e66d39b1d6"
      },
      "source": [
        "# finding % in indiv cse\n",
        "cse_2019 = cse_total[0][0]/cse_total[0][2]\n",
        "cse_2017 = cse_total[1][0]+cse_total[2][0]+cse_total[3][0] /(cse_total[1][2]+cse_total[2][2]+cse_total[3][2])\n",
        "cse_2016 = cse_total[4][0]+cse_total[5][0]+cse_total[6][0] /(cse_total[4][2]+cse_total[5][2]+cse_total[6][2])\n",
        "cse_2015 = cse_total[7][0]+cse_total[8][0]+cse_total[9][0] / (cse_total[7][2]+cse_total[8][2]+cse_total[9][2])\n",
        "print(cse_2019)"
      ],
      "execution_count": null,
      "outputs": [
        {
          "output_type": "stream",
          "name": "stdout",
          "text": [
            "0.22279792746113988\n"
          ]
        }
      ]
    },
    {
      "cell_type": "code",
      "metadata": {
        "id": "IZHfGsK_E2TC",
        "colab": {
          "base_uri": "https://localhost:8080/"
        },
        "outputId": "d70759cf-c85f-4728-de44-21cc0a5b0608"
      },
      "source": [
        "# finding % in indiv eee\n",
        "eee_2019 = eee_total[0][0]/eee_total[0][2]\n",
        "eee_2017 = eee_total[1][0]+eee_total[2][0]+eee_total[3][0] /(eee_total[1][2]+eee_total[2][2]+eee_total[3][2])\n",
        "eee_2016 = eee_total[4][0]+eee_total[5][0]+eee_total[6][0] /(eee_total[4][2]+eee_total[5][2]+eee_total[6][2])\n",
        "eee_2015 = eee_total[7][0]+eee_total[8][0]+eee_total[9][0] / (eee_total[7][2]+eee_total[8][2]+eee_total[9][2])\n",
        "print(eee_2019)"
      ],
      "execution_count": null,
      "outputs": [
        {
          "output_type": "stream",
          "name": "stdout",
          "text": [
            "0.09375\n"
          ]
        }
      ]
    },
    {
      "cell_type": "code",
      "metadata": {
        "id": "ibmtBLRFFQrq",
        "colab": {
          "base_uri": "https://localhost:8080/"
        },
        "outputId": "062c556d-ccae-4da1-b838-d3876fc35656"
      },
      "source": [
        "# finding % in indiv bba\n",
        "bba_2019 = bba_total[0][0]/bba_total[0][2]\n",
        "bba_2017 = bba_total[1][0]+bba_total[2][0]+bba_total[3][0] /(bba_total[1][2]+bba_total[2][2]+bba_total[3][2])\n",
        "bba_2016 = bba_total[4][0]+bba_total[5][0]+bba_total[6][0] /(bba_total[4][2]+bba_total[5][2]+bba_total[6][2])\n",
        "bba_2015 = bba_total[7][0]+bba_total[8][0]+bba_total[9][0] / (bba_total[7][2]+bba_total[8][2]+bba_total[9][2])\n",
        "print(bba_2019)"
      ],
      "execution_count": null,
      "outputs": [
        {
          "output_type": "stream",
          "name": "stdout",
          "text": [
            "0.29891304347826086\n"
          ]
        }
      ]
    },
    {
      "cell_type": "code",
      "metadata": {
        "colab": {
          "base_uri": "https://localhost:8080/"
        },
        "id": "CHQVJlgPFkdD",
        "outputId": "858e6fba-3b09-497b-af48-e3f19019a9ad"
      },
      "source": [
        "# finding % in indiv llb\n",
        "llb_2019 = llb_total[0][0]/llb_total[0][2]\n",
        "llb_2017 = llb_total[1][0]+llb_total[2][0]+llb_total[3][0] /(llb_total[1][2]+llb_total[2][2]+llb_total[3][2])\n",
        "llb_2016 = llb_total[4][0]+llb_total[5][0]+llb_total[6][0] /(llb_total[4][2]+llb_total[5][2]+llb_total[6][2])\n",
        "llb_2015 = llb_total[7][0]+llb_total[8][0]+llb_total[9][0] / (llb_total[7][2]+llb_total[8][2]+llb_total[9][2])\n",
        "print(llb_2019)"
      ],
      "execution_count": null,
      "outputs": [
        {
          "output_type": "stream",
          "name": "stdout",
          "text": [
            "0.4393939393939394\n"
          ]
        }
      ]
    },
    {
      "cell_type": "code",
      "metadata": {
        "colab": {
          "base_uri": "https://localhost:8080/",
          "height": 619
        },
        "id": "hW0nzizYEfOX",
        "outputId": "648de1e8-d5bf-4843-afac-6aac246ac2eb"
      },
      "source": [
        "import matplotlib.pyplot as plt\n",
        "from matplotlib import rcParams \n",
        "\n",
        "rcParams['figure.figsize'] = 12,9\n",
        "\n",
        "fig, ax = plt.subplots()\n",
        "fig.suptitle(\"Female in Technical Vs Non Technical fields\")\n",
        "#p for technical q for non_techincal\n",
        "\n",
        "#p = [ratio_tech_18, ratio_tech_19]\n",
        "#q = [ratio_non_tech_18, ratio_non_tech_19]\n",
        "\n",
        "\n",
        "\n",
        "plt.plot(['2015','2016','2017','2019'],[cse_2019,cse_2017,cse_2016,cse_2015])\n",
        "plt.plot(['2015','2016','2017','2019'],[eee_2019,eee_2017,eee_2016,eee_2015])\n",
        "plt.plot(['2015','2016','2017','2019'],[bba_2019,bba_2017,bba_2016,bba_2015])\n",
        "plt.plot(['2015','2016','2017','2019'],[llb_2019,llb_2017,llb_2016,llb_2015])\n",
        "\n",
        "\n",
        "ax.legend(['cse','eee','bba','llb'])\n"
      ],
      "execution_count": null,
      "outputs": [
        {
          "output_type": "execute_result",
          "data": {
            "text/plain": [
              "<matplotlib.legend.Legend at 0x7f94d7a7d590>"
            ]
          },
          "metadata": {},
          "execution_count": 20
        },
        {
          "output_type": "display_data",
          "data": {
            "image/png": "[encoded data removed]",
            "text/plain": [
              "<Figure size 864x648 with 1 Axes>"
            ]
          },
          "metadata": {
            "needs_background": "light"
          }
        }
      ]
    },
    {
      "cell_type": "code",
      "metadata": {
        "colab": {
          "base_uri": "https://localhost:8080/"
        },
        "id": "L0ar81ysfaBP",
        "outputId": "7643a59f-893a-4a56-aa47-d68fd313a80c"
      },
      "source": [
        "#findin % for non non_technical (totalfemale/totalstudent)\n",
        "female19_non_tech = (bba_total[0][0]+llb_total[0][0])/(bba_total[0][2]+llb_total[0][2])\n",
        "female17_non_tech = (bba_total[1][0]+bba_total[2][0]+bba_total[3][0]+llb_total[1][0]+llb_total[2][0]+llb_total[3][0])/(bba_total[1][2]+bba_total[2][2]+bba_total[3][2]+llb_total[1][2]+llb_total[2][2]+llb_total[3][2])\n",
        "female16_non_tech = (bba_total[4][0]+bba_total[5][0]+bba_total[6][0]+llb_total[4][0]+llb_total[5][0]+llb_total[6][0])/(bba_total[4][2]+bba_total[5][2]+bba_total[6][2]+llb_total[4][2]+llb_total[5][2]+llb_total[6][2])\n",
        "female15_non_tech = (bba_total[7][0]+bba_total[8][0]+bba_total[9][0]+llb_total[7][0]+llb_total[8][0]+llb_total[9][0])/(bba_total[7][2]+bba_total[8][2]+bba_total[9][2]+llb_total[7][2]+llb_total[8][2]+llb_total[9][2])\n",
        "print(female17_non_tech ,'vs', female16_non_tech)"
      ],
      "execution_count": null,
      "outputs": [
        {
          "output_type": "stream",
          "name": "stdout",
          "text": [
            "0.2509025270758123 vs 0.27889908256880735\n"
          ]
        }
      ]
    },
    {
      "cell_type": "code",
      "metadata": {
        "id": "yBiTS8QU9hNW",
        "colab": {
          "base_uri": "https://localhost:8080/"
        },
        "outputId": "18b97a88-e511-4ec3-d543-c6836c53d8ae"
      },
      "source": [
        "def total_number_of_female(dataset):\n",
        "    total_female = 0\n",
        "    total_percent = 0\n",
        "    total_student = 0\n",
        "    for female,percent,sum_of_student in dataset:\n",
        "        total_female += female\n",
        "        total_percent += percent\n",
        "        total_student += sum_of_student \n",
        "\n",
        "        \n",
        "    return total_female,total_percent,total_student\n",
        "\n",
        "total_in_Technical =[sum(x) for x in zip( total_number_of_female(cse_total),total_number_of_female(eee_total))]\n",
        "total_in_Nontechnical = [sum(x) for x in zip(total_number_of_female(bba_total),total_number_of_female(llb_total))]\n",
        "\n",
        "\n",
        "#checking for % of female non tech vs tech\n",
        "percent = total_in_Nontechnical[0]/total_in_Nontechnical[2]\n",
        "percent2 = total_in_Technical[0]/total_in_Technical[2]\n",
        "print(percent)\n",
        "print(percent2)"
      ],
      "execution_count": null,
      "outputs": [
        {
          "output_type": "stream",
          "name": "stdout",
          "text": [
            "0.2695729537366548\n",
            "0.14756620151631689\n"
          ]
        }
      ]
    },
    {
      "cell_type": "code",
      "metadata": {
        "id": "iM2W1QS1tVlH"
      },
      "source": [
        ""
      ],
      "execution_count": null,
      "outputs": []
    },
    {
      "cell_type": "code",
      "metadata": {
        "colab": {
          "base_uri": "https://localhost:8080/",
          "height": 619
        },
        "id": "NGHp7P2LuJLm",
        "outputId": "4d688f53-5296-4a91-8795-5c8e223d4729"
      },
      "source": [
        "import matplotlib.pyplot as plt\n",
        "from matplotlib import rcParams \n",
        "\n",
        "rcParams['figure.figsize'] = 12,9\n",
        "\n",
        "fig, ax = plt.subplots()\n",
        "fig.suptitle(\"Female in Technical Vs Non Technical fields\")\n",
        "#p for technical q for non_techincal\n",
        "\n",
        "#p = [ratio_tech_18, ratio_tech_19]\n",
        "#q = [ratio_non_tech_18, ratio_non_tech_19]\n",
        "\n",
        "\n",
        "\n",
        "plt.plot(['2015','2016','2017','2019'],[female15_tech,female16_tech,female17_tech,female19_tech])\n",
        "\n",
        "plt.plot(['2015','2016','2017','2019'],[female15_non_tech,female16_non_tech,female17_non_tech,female19_non_tech])\n",
        "#plt.plot(['2017','2019'],[non_tech_female17,non_tech_female19]);\n",
        "ax.legend(['tech','non_tech'])\n"
      ],
      "execution_count": null,
      "outputs": [
        {
          "output_type": "execute_result",
          "data": {
            "text/plain": [
              "<matplotlib.legend.Legend at 0x7f94d7ada710>"
            ]
          },
          "metadata": {},
          "execution_count": 23
        },
        {
          "output_type": "display_data",
          "data": {
            "image/png": "[encoded data removed]",
            "text/plain": [
              "<Figure size 864x648 with 1 Axes>"
            ]
          },
          "metadata": {
            "needs_background": "light"
          }
        }
      ]
    },
    {
      "cell_type": "code",
      "metadata": {
        "id": "HDQpZ8-hvHvz"
      },
      "source": [
        "cse2019 = cse191\n",
        "cse2017 = pd.concat([cse171, cse172, cse173], axis=0)\n",
        "cse2016 = pd.concat([cse161, cse162, cse163], axis=0)\n",
        "cse2015 = pd.concat([cse151, cse152, cse153], axis=0)"
      ],
      "execution_count": null,
      "outputs": []
    },
    {
      "cell_type": "code",
      "metadata": {
        "id": "-cASLEs03YNz"
      },
      "source": [
        "eee2019 = eee191\n",
        "eee2017 = pd.concat([eee171, eee172, eee173], axis=0)\n",
        "eee2016 = pd.concat([eee161, eee162, eee163], axis=0)\n",
        "eee2015 = pd.concat([eee151, eee152, eee153], axis=0)"
      ],
      "execution_count": null,
      "outputs": []
    },
    {
      "cell_type": "code",
      "metadata": {
        "id": "IdI3JA4xckgK"
      },
      "source": [
        "bba2019 = bba191\n",
        "bba2017 = pd.concat([bba171, bba172, bba173], axis=0)\n",
        "bba2016 = pd.concat([bba161, bba162, bba163], axis=0)\n",
        "bba2015 = pd.concat([bba151, bba152, bba153], axis=0)"
      ],
      "execution_count": null,
      "outputs": []
    },
    {
      "cell_type": "code",
      "metadata": {
        "id": "lEb-tRO3cpQg"
      },
      "source": [
        "llb2019 = llb191\n",
        "llb2017 = pd.concat([llb171, llb172, llb173], axis=0)\n",
        "llb2016 = pd.concat([llb161, llb162, llb163], axis=0)\n",
        "llb2015 = pd.concat([llb151, llb152, llb153], axis=0)"
      ],
      "execution_count": null,
      "outputs": []
    },
    {
      "cell_type": "code",
      "metadata": {
        "id": "qIEqok0ictOP"
      },
      "source": [
        "import math\n",
        "import numpy as np\n",
        "\n",
        "def mean(dataframe):\n",
        "    female_mean = []\n",
        "    male_mean = []\n",
        "    female_droped = 0\n",
        "    droped = 0\n",
        "    male_droped = 0\n",
        "    for index,row in dataframe.iterrows():\n",
        "       datalist = list(row)\n",
        "       if datalist[2] == 0.0:\n",
        "           droped += 1\n",
        "           if datalist[1] == \"Male\":\n",
        "               male_droped += 1\n",
        "           else:\n",
        "                female_droped +=1\n",
        "       else:\n",
        "            if datalist[1] == \"Female\":\n",
        "                datalist = datalist[2:]\n",
        "                female_mean.append((sum(datalist)/len(datalist)))\n",
        "            if datalist[1] == \"Male\":\n",
        "                datalist = datalist[2:]\n",
        "                male_mean.append((sum(datalist))/len(datalist))\n",
        "    return female_mean,male_mean,female_droped,male_droped,droped"
      ],
      "execution_count": null,
      "outputs": []
    },
    {
      "cell_type": "code",
      "metadata": {
        "colab": {
          "base_uri": "https://localhost:8080/"
        },
        "id": "hRdoAWezkL0F",
        "outputId": "fd332f65-139c-44de-c938-c8a05a3087a8"
      },
      "source": [
        "mean(cse2015)"
      ],
      "execution_count": null,
      "outputs": [
        {
          "output_type": "stream",
          "name": "stdout",
          "text": [
            "([3.9385714285714286, 2.2728571428571427, 2.851428571428571, 3.922857142857143, 3.0500000000000003, 3.577142857142857, 2.8414285714285716, 3.6557142857142857, 0.2642857142857143, 3.6357142857142857, 3.4428571428571426, 2.7328571428571427, 1.8685714285714288, 2.77, 1.8085714285714285, 0.2785714285714286, 0.26857142857142857, 2.6857142857142855, 0.8928571428571429, 2.8485714285714283, 1.8414285714285714, 3.0157142857142856, 0.6642857142857144, 2.424285714285715, 2.2257142857142855, 0.36428571428571427, 3.0114285714285716, 2.898571428571429, 0.99, 0.6357142857142858, 2.8500000000000005, 1.9328571428571428, 3.2457142857142856, 3.4899999999999998, 2.875714285714286, 0.42714285714285716, 1.9214285714285713, 1.9400000000000002, 2.4299999999999997, 3.0, 0.9399999999999998, 2.282857142857143, 3.152857142857143, 2.11, 3.335714285714286, 3.891428571428571, 3.644285714285714, 1.432857142857143, 2.2657142857142856, 2.948571428571429, 1.9271428571428573, 2.632857142857143, 3.2971428571428576, 2.81, 3.47, 3.1185714285714288, 3.134285714285714, 2.934285714285714, 2.647142857142857, 3.3557142857142854, 2.904285714285714, 2.394285714285714, 2.2742857142857145, 3.2199999999999998, 3.817142857142857, 2.2842857142857143, 3.872857142857143, 3.1914285714285713, 3.948571428571429, 0.5028571428571429, 3.4200000000000004, 3.607142857142857, 2.6, 3.287142857142857, 1.8085714285714285, 0.3985714285714286, 2.251428571428572, 2.6914285714285713, 2.6014285714285714, 2.3114285714285714, 3.4528571428571424, 3.444285714285715, 3.5771428571428574, 2.325714285714286, 3.752857142857143, 2.23, 3.487142857142857, 3.8157142857142854, 3.0985714285714288, 3.4057142857142857, 2.7328571428571427, 1.985714285714286, 2.5014285714285713, 2.9828571428571427, 2.7142857142857144, 0.16999999999999998, 3.902857142857143, 3.751428571428572, 2.588571428571428, 3.8057142857142856, 3.7157142857142857, 2.194285714285714, 3.5014285714285713, 3.411428571428572, 3.7871428571428574, 2.8528571428571428, 1.6885714285714286, 3.795714285714286, 2.417142857142857, 2.934285714285714, 2.5985714285714288, 2.5228571428571427, 2.3214285714285716, 1.7385714285714287, 1.2742857142857142, 3.0114285714285716, 0.4614285714285714, 3.207142857142857, 2.818571428571429, 3.1528571428571426, 1.0885714285714285, 3.29, 2.9899999999999998, 3.285714285714286, 0.6685714285714285, 2.9285714285714284, 0.18571428571428572, 3.0500000000000003, 2.02, 2.4071428571428575, 1.0871428571428572, 2.672857142857143, 1.9414285714285715, 2.011428571428571, 3.582857142857143, 3.711428571428571, 0.7957142857142856, 3.98, 3.7128571428571426, 3.8814285714285712, 2.98, 3.7257142857142855, 3.4771428571428573, 2.138571428571429, 3.005714285714286, 3.822857142857143, 3.544285714285714, 3.207142857142857, 0.6842857142857143, 2.7785714285714285, 3.6699999999999995, 2.77, 3.4585714285714286, 0.9771428571428571, 2.728571428571428, 2.358571428571429, 2.585714285714286, 0.9514285714285714, 3.37, 3.822857142857143, 3.237142857142857, 3.377142857142857, 3.3, 2.844285714285714, 3.3857142857142857, 2.4585714285714286, 2.4542857142857137, 3.718571428571429, 3.665714285714286, 3.192857142857143, 3.2114285714285713, 3.835714285714286, 2.6942857142857144, 3.624285714285714, 3.4771428571428573, 3.174285714285714, 3.728571428571428, 1.8900000000000001, 3.4899999999999998, 2.8657142857142857, 3.0885714285714285, 1.0957142857142856, 2.837142857142857, 3.607142857142857, 3.3728571428571428, 3.4614285714285713, 2.2385714285714284, 3.474285714285714, 3.7114285714285713, 1.8557142857142854, 3.764285714285714, 0.51, 2.234285714285714, 1.1028571428571428, 3.337142857142857, 3.7199999999999998, 3.837142857142857, 3.1257142857142854, 1.5728571428571427, 0.16142857142857142, 3.0714285714285716, 3.162857142857143, 3.042857142857143, 2.327142857142857, 3.46, 2.8442857142857143, 3.295714285714286, 2.6942857142857144, 3.2528571428571422, 3.372857142857143, 3.9014285714285712, 2.4671428571428575, 2.8857142857142857, 1.6842857142857142, 2.0357142857142856, 0.6457142857142857, 2.9557142857142855, 2.6057142857142854, 3.1785714285714284, 1.6028571428571428, 2.867142857142857, 3.6314285714285712, 3.5585714285714287, 2.6485714285714286, 3.085714285714286, 3.27, 2.6914285714285713, 2.2, 3.321428571428572, 0.9357142857142857, 3.3771428571428572, 1.1314285714285715, 2.008571428571429, 3.042857142857143, 1.3628571428571428, 3.77, 1.8599999999999999, 3.1728571428571435, 3.5971428571428574, 2.494285714285714, 3.415714285714286, 3.0342857142857143, 2.878571428571429, 2.8414285714285716, 2.924285714285714, 2.552857142857143, 2.2871428571428574, 3.1914285714285713, 2.4971428571428573, 1.1385714285714286, 3.1242857142857146, 3.0157142857142856, 3.5785714285714283, 3.364285714285714, 2.6957142857142853, 2.61, 3.2485714285714287, 3.795714285714286, 3.584285714285714, 3.05, 1.1285714285714286, 2.3785714285714286, 0.7999999999999999, 3.5042857142857144, 3.4514285714285715, 1.56, 0.8185714285714286, 3.395714285714285, 3.34, 3.2928571428571423, 3.19, 3.1999999999999997, 2.875714285714286, 2.59, 2.551428571428571, 3.404285714285714, 1.2957142857142858, 3.4785714285714286, 2.257142857142857, 2.6, 1.8300000000000003, 2.6128571428571425, 1.977142857142857, 3.8328571428571427, 0.26857142857142857, 3.3414285714285716, 2.2, 0.08, 2.482857142857143, 1.2057142857142857, 3.672857142857143, 0.6828571428571429, 3.205714285714286, 0.9228571428571427, 2.722857142857143, 2.5085714285714285, 3.0271428571428567, 2.8371428571428576, 0.89], [2.632857142857143, 3.415714285714285, 2.9585714285714286, 3.0342857142857147, 3.4199999999999995, 3.19, 3.8471428571428574, 3.834285714285714, 3.3642857142857143, 2.957142857142857, 3.4414285714285713, 1.3571428571428572, 3.25, 1.8271428571428572, 3.5, 2.334285714285714, 3.8771428571428572, 3.7971428571428576, 3.725714285714286, 3.2214285714285715, 3.074285714285714, 3.698571428571429, 2.7328571428571427, 3.0500000000000003, 2.337142857142857, 3.6914285714285713, 2.807142857142857, 2.812857142857143, 2.935714285714286, 2.494285714285714, 3.152857142857143, 3.15, 3.3485714285714288, 0.9242857142857143, 3.8428571428571425, 3.557142857142857, 0.23857142857142857, 1.9857142857142858, 3.0771428571428574, 3.6585714285714284, 2.891428571428571, 2.6142857142857143, 2.2114285714285713, 2.817142857142857, 3.2442857142857138, 3.188571428571428, 3.422857142857143, 2.7228571428571433, 1.612857142857143, 2.1671428571428573, 2.3485714285714288, 1.2314285714285713, 0.8885714285714287, 0.4257142857142857, 3.198571428571429, 2.777142857142857, 2.8314285714285714, 2.8457142857142856, 2.8357142857142854, 1.7642857142857142, 3.5885714285714285, 1.59, 0.5128571428571428, 2.754285714285714, 2.545714285714286, 3.1671428571428573, 1.5528571428571427, 2.4185714285714286, 3.1757142857142857, 0.38, 1.6142857142857143, 3.7642857142857147, 2.4071428571428575, 2.641428571428572, 0.43142857142857144, 3.5871428571428567, 1.3057142857142858, 3.417142857142857, 1.3471428571428572, 0.24285714285714285, 2.214285714285714, 3.3814285714285712, 3.735714285714286, 2.221428571428571, 2.841428571428571, 3.282857142857143, 3.4185714285714286, 2.2971428571428576, 2.662857142857143, 2.8657142857142857, 2.4499999999999997, 1.0857142857142856, 3.317142857142857, 2.867142857142857, 2.5385714285714287, 2.0928571428571425, 3.924285714285714, 3.1342857142857143, 2.6771428571428575, 0.84, 2.701428571428572, 3.9614285714285713, 1.8785714285714286, 3.8557142857142854, 2.6371428571428575, 3.1814285714285715, 2.9257142857142857, 3.5800000000000005, 2.6900000000000004, 2.245714285714286, 3.1799999999999997, 2.487142857142857, 2.287142857142857, 3.255714285714286, 2.9142857142857146, 0.6657142857142857, 2.8542857142857136, 3.0700000000000003, 2.1728571428571426, 2.562857142857143, 2.1814285714285715, 3.332857142857143, 1.9399999999999997, 1.6185714285714285, 2.717142857142857, 2.327142857142857, 3.7499999999999996, 2.7814285714285716, 2.3300000000000005, 3.025714285714286, 2.738571428571429, 2.3385714285714285, 3.732857142857143, 3.0414285714285714, 0.38, 1.99, 2.3185714285714285, 2.698571428571429, 3.6314285714285712, 3.6285714285714286, 2.8442857142857143, 1.6814285714285713, 1.2342857142857144, 2.994285714285714, 1.707142857142857, 2.8514285714285714, 2.912857142857143, 3.902857142857143, 3.164285714285714, 0.48714285714285716, 2.7685714285714282, 3.494285714285714, 3.582857142857143, 2.467142857142857, 3.1971428571428575, 2.277142857142857, 2.982857142857143, 1.662857142857143, 3.3485714285714283, 3.6714285714285713, 3.4457142857142853, 1.8157142857142858, 3.115714285714286, 0.4414285714285714, 3.045714285714286, 3.3485714285714288, 2.3085714285714287, 2.111428571428571, 3.794285714285714, 3.035714285714285, 2.91, 3.4185714285714286, 3.198571428571428, 3.108571428571428, 2.6571428571428575, 0.3057142857142857, 3.3728571428571428, 2.787142857142857, 3.107142857142857, 0.22571428571428573, 0.7185714285714286, 1.8442857142857143, 1.8399999999999999, 3.3557142857142854, 2.835714285714286, 1.8242857142857143, 2.8628571428571425, 3.562857142857143, 3.2257142857142855, 0.9328571428571427, 2.334285714285714, 3.764285714285714, 2.415714285714285, 2.2742857142857145, 3.3442857142857143, 0.42428571428571427, 2.0228571428571427, 2.4285714285714284, 1.637142857142857, 3.012857142857143, 1.757142857142857, 1.3314285714285714, 1.432857142857143, 3.707142857142857, 2.1242857142857146, 3.6314285714285717, 2.5342857142857147, 2.2328571428571427, 3.6228571428571428, 1.4728571428571429, 1.6300000000000001, 2.9942857142857138, 3.3314285714285714, 3.632857142857143, 3.4642857142857144, 2.382857142857143, 1.4842857142857144, 3.358571428571428, 0.2571428571428572, 3.0328571428571425, 2.434285714285714, 0.16142857142857142, 2.652857142857143, 0.21428571428571427, 0.12142857142857143, 1.3, 0.36, 3.3285714285714287, 2.245714285714286, 2.9771428571428573, 3.0085714285714285, 3.5557142857142856, 3.757142857142857, 1.7928571428571427, 2.5614285714285714, 2.6271428571428572, 3.237142857142857, 2.18, 2.728571428571428, 3.031428571428571, 3.3685714285714283, 1.6828571428571428, 2.042857142857143, 2.8771428571428572, 2.5985714285714283, 1.7200000000000002, 2.0614285714285714, 2.105714285714286, 3.6157142857142857, 3.707142857142857, 3.1042857142857145, 3.3314285714285714, 1.7114285714285715, 3.5228571428571427, 2.5100000000000002, 2.507142857142857, 3.254285714285714, 2.6457142857142855, 2.7471428571428573, 3.017142857142858, 3.792857142857143, 3.764285714285714, 1.4642857142857142, 3.0985714285714288, 0.14285714285714285, 0.8442857142857143, 0.4557142857142858, 3.1399999999999997, 0.2928571428571428, 3.0814285714285714, 3.224285714285714, 2.6942857142857144, 3.431428571428571, 3.494285714285714, 2.8442857142857148, 3.31, 3.712857142857143, 3.6142857142857143, 2.435714285714286, 2.4457142857142857, 3.665714285714285, 2.435714285714286, 3.0785714285714287, 2.2085714285714286, 2.69, 3.4314285714285715, 3.8728571428571428, 0.3628571428571429, 3.2971428571428567, 2.7800000000000002, 3.16, 3.2742857142857145, 3.2785714285714285, 3.77, 0.5542857142857143, 2.642857142857143, 3.5728571428571425, 2.817142857142857, 2.4914285714285715, 3.631428571428571, 2.8657142857142857, 2.9957142857142856, 0.24428571428571427, 2.6514285714285712, 0.2857142857142857, 2.358571428571428, 3.472857142857143, 3.837142857142857, 2.91, 3.714285714285714, 3.9642857142857144, 1.9942857142857142, 3.9185714285714286, 0.4371428571428571, 3.287142857142857, 3.0385714285714287, 3.21, 3.6785714285714284, 3.41, 1.1500000000000001, 3.367142857142857, 2.257142857142857, 3.3457142857142856, 3.4171428571428573, 2.972857142857143, 3.194285714285715, 3.484285714285714, 3.2414285714285715, 3.792857142857143, 2.7957142857142854, 2.1485714285714286, 3.1457142857142855, 3.835714285714286, 2.985714285714286, 3.097142857142857, 3.3457142857142856, 3.084285714285714, 2.557142857142857, 3.36, 2.7357142857142853, 2.5942857142857143, 3.2271428571428573, 3.7571428571428567, 3.975714285714286, 2.6685714285714286, 3.1071428571428568, 3.057142857142857, 3.7185714285714284, 2.87, 3.4699999999999998, 3.657142857142857, 3.4457142857142857, 3.2657142857142856, 3.752857142857143, 1.1514285714285715, 3.342857142857143, 2.2842857142857143, 0.8257142857142856, 1.3285714285714287, 0.31428571428571433, 3.627142857142857, 2.9314285714285715, 2.808571428571429, 2.5628571428571427, 3.0957142857142848, 2.5300000000000002, 3.1971428571428575, 2.61, 3.507142857142857, 2.7300000000000004, 3.7642857142857147, 3.4857142857142853, 2.9757142857142855, 3.1357142857142857, 2.8799999999999994, 3.0599999999999996, 3.8728571428571428, 3.6642857142857146, 3.7614285714285716, 2.942857142857143, 0.5171428571428571, 3.075714285714286, 0.2928571428571428, 2.0814285714285714, 3.4957142857142856, 3.471428571428571, 3.4071428571428575, 3.205714285714286, 2.8957142857142864, 3.295714285714286, 3.5814285714285714, 3.442857142857143, 3.1057142857142854, 2.5799999999999996, 2.7285714285714286, 3.464285714285715, 3.7600000000000002, 2.632857142857143, 2.4771428571428573, 3.337142857142857, 2.6771428571428575, 1.2742857142857142, 3.2157142857142853, 3.652857142857143, 1.4271428571428573, 2.849999999999999, 2.884285714285714, 3.445714285714286, 3.432857142857143, 2.11, 1.792857142857143, 3.2399999999999998, 3.802857142857143, 3.7942857142857145, 3.3328571428571427, 3.762857142857143, 3.5028571428571427, 0.2957142857142857, 3.79, 3.025714285714286, 2.255714285714286, 0.6728571428571428, 2.745714285714286, 0.32857142857142857, 0.9114285714285716, 3.65, 2.3785714285714286, 2.0585714285714287, 3.648571428571429, 2.1057142857142854, 2.5714285714285716, 2.672857142857143, 3.957142857142857, 3.27, 3.36, 3.8842857142857143, 3.5785714285714287, 2.7600000000000002, 2.144285714285714, 1.7328571428571427, 3.1885714285714286, 3.8614285714285717, 3.165714285714286, 3.3971428571428572, 2.8414285714285716, 2.217142857142857, 2.904285714285714, 3.0271428571428567, 2.8314285714285714, 3.6599999999999997, 2.1357142857142857, 0.6628571428571428, 3.5371428571428574, 3.8542857142857136, 3.5100000000000002, 2.667142857142857, 3.077142857142857, 3.4257142857142857, 0.24285714285714285, 1.4600000000000004, 2.9614285714285713, 3.9842857142857144, 3.3628571428571434, 2.2685714285714282, 1.364285714285714, 3.7400000000000007, 3.7342857142857144, 3.6728571428571426, 3.2628571428571433, 2.3214285714285716, 2.91, 3.2571428571428567, 3.1057142857142854, 2.724285714285714, 1.7342857142857142, 3.3957142857142855, 3.4528571428571424, 3.2314285714285718, 2.882857142857143, 2.0185714285714282, 2.7014285714285715, 0.2814285714285714, 2.057142857142857, 2.6128571428571425, 1.9657142857142855, 3.205714285714286, 3.0642857142857145, 2.5128571428571425, 3.2328571428571427, 2.3842857142857143, 2.66, 3.4299999999999997, 3.787142857142857, 2.242857142857143, 3.3871428571428575, 3.647142857142857, 3.361428571428571, 3.3942857142857146, 2.7214285714285715, 3.0, 3.3114285714285714, 2.8428571428571425, 3.261428571428571, 3.1385714285714283, 3.245714285714286, 0.23285714285714285, 3.731428571428572, 3.402857142857143, 2.5557142857142856, 1.8542857142857143, 2.1371428571428575, 3.165714285714286, 2.837142857142857, 0.7857142857142857, 2.7728571428571422, 3.7071428571428577, 1.552857142857143, 2.6585714285714284, 2.5014285714285713, 3.211428571428572, 2.9814285714285718, 2.0557142857142856, 3.6614285714285715, 2.745714285714286, 1.4842857142857144, 0.8171428571428571, 2.8600000000000003, 3.6671428571428573, 1.8585714285714288, 2.564285714285714, 1.2242857142857144, 2.7214285714285715, 2.335714285714286, 2.187142857142857, 2.7614285714285716, 2.61, 3.5157142857142856, 2.9514285714285715, 1.0571428571428572, 3.351428571428571, 2.2585714285714285, 0.852857142857143, 3.565714285714286, 3.242857142857143, 0.18857142857142858, 3.242857142857143, 0.18857142857142858, 2.8328571428571427, 0.52, 1.1785714285714286, 3.3685714285714288, 2.0500000000000003, 3.005714285714285, 3.1842857142857146, 3.43, 3.5985714285714283, 2.4857142857142853, 3.325714285714285, 2.314285714285714, 1.8185714285714287, 3.5157142857142856, 3.35, 3.207142857142857, 3.6614285714285715, 1.8171428571428572, 2.371428571428571, 3.858571428571428, 0.8357142857142856, 3.6700000000000004, 1.0485714285714285, 3.4528571428571433, 3.3328571428571427, 3.7728571428571427, 3.2657142857142856, 3.5800000000000005, 3.6642857142857146, 3.8542857142857136, 3.3028571428571425, 3.0942857142857143, 3.885714285714286, 3.555714285714285, 2.0114285714285716, 3.0857142857142854, 3.222857142857143, 3.9299999999999997, 3.0300000000000002, 3.4699999999999998, 2.892857142857143, 2.731428571428571, 2.812857142857143, 3.1871428571428573, 2.4685714285714284, 2.692857142857143, 3.361428571428571, 3.1342857142857143, 3.0371428571428574, 2.9185714285714286, 3.2871428571428574, 2.8485714285714283, 3.491428571428571, 3.3414285714285716, 3.325714285714286, 3.5928571428571425, 3.527142857142857, 2.5271428571428567, 2.874285714285714, 3.275714285714286, 1.23, 3.0799999999999996, 3.6957142857142857, 2.8699999999999997, 3.2414285714285715, 0.3628571428571429, 3.6857142857142855, 3.1671428571428573, 3.375714285714286, 3.5828571428571427, 0.3685714285714286, 3.782857142857143, 2.9071428571428575, 3.012857142857143, 3.1485714285714286, 2.412857142857143, 2.981428571428571, 3.884285714285714, 3.795714285714286, 3.2142857142857144, 3.8085714285714287, 3.19, 2.0342857142857143, 3.8685714285714288, 3.7757142857142862, 2.2771428571428567, 1.3457142857142856, 2.8242857142857147, 3.271428571428572, 3.532857142857143, 3.737142857142857, 3.0357142857142856, 3.242857142857143, 3.3957142857142855, 3.838571428571428, 3.1685714285714286, 3.6457142857142855, 2.857142857142857, 2.7071428571428564, 0.8942857142857142, 3.0614285714285714, 1.1271428571428572, 3.3614285714285717, 3.1585714285714284, 1.4342857142857142, 3.442857142857143, 1.601428571428571, 0.45, 2.7342857142857144, 0.71, 2.681428571428572, 0.6871428571428572, 2.527142857142857, 3.474285714285714, 3.0399999999999996, 2.9828571428571427, 3.347142857142857, 2.8114285714285714, 3.1514285714285712, 2.857142857142857, 2.6785714285714284, 2.938571428571428, 3.875714285714286, 3.817142857142857, 3.5285714285714285, 3.7028571428571433, 3.1028571428571428, 0.8871428571428571, 2.825714285714286, 3.1799999999999997, 2.141428571428572, 3.3028571428571425, 2.994285714285714, 3.501428571428572, 2.5271428571428567, 2.705714285714286, 0.6657142857142857, 3.251428571428572, 3.942857142857143, 2.5828571428571427, 3.228571428571428, 1.894285714285714, 3.8528571428571428, 2.8657142857142857, 1.8928571428571426, 3.1814285714285715, 2.7614285714285716, 2.9714285714285715, 3.15, 3.3357142857142854, 3.181428571428572, 2.36, 2.8742857142857146, 2.87, 2.162857142857143, 3.5028571428571422, 0.7985714285714286, 3.357142857142857, 2.884285714285714, 3.1057142857142854, 3.861428571428571, 3.154285714285714, 3.174285714285715, 2.277142857142857, 2.4642857142857144, 1.6857142857142855, 3.4042857142857144, 3.1842857142857146, 2.7842857142857143, 0.7814285714285715, 2.955714285714286, 3.407142857142857, 1.0371428571428571, 2.4585714285714286, 2.8885714285714283, 3.891428571428571, 1.1114285714285714, 2.4642857142857144, 2.1471428571428572, 2.2871428571428574, 1.9214285714285713, 3.25, 2.19, 0.21428571428571427, 0.2414285714285714, 2.865714285714286, 2.4, 3.6528571428571426, 3.1514285714285712, 2.3842857142857143, 2.8414285714285716, 3.1385714285714283, 3.1128571428571425, 1.15, 2.8642857142857143, 2.64, 3.035714285714285, 2.687142857142857, 2.9200000000000004, 3.1485714285714286, 1.2285714285714289, 2.961428571428571, 2.1699999999999995, 0.6871428571428572, 3.3628571428571425, 2.511428571428571, 3.1828571428571437, 3.247142857142857, 3.0985714285714288, 0.6485714285714286, 0.7185714285714286, 3.288571428571428, 3.205714285714286, 3.0342857142857147, 3.084285714285714, 2.454285714285714, 0.2857142857142857, 3.2100000000000004, 2.891428571428571, 1.2857142857142858, 0.1757142857142857, 3.3000000000000003, 2.3614285714285717, 0.8700000000000001, 3.0314285714285716, 1.8800000000000001, 2.7214285714285715, 1.6685714285714286, 2.2114285714285713, 0.8585714285714287, 3.192857142857143, 2.8985714285714286, 0.29714285714285715, 3.3185714285714285, 1.9514285714285715, 3.205714285714286, 3.468571428571429, 3.1957142857142857, 3.1514285714285717, 3.6757142857142857, 3.4142857142857146, 3.1442857142857146, 2.4271428571428575, 3.2285714285714286, 3.974285714285714, 3.46, 2.478571428571428, 3.7342857142857144, 0.47285714285714286, 3.34, 2.905714285714286, 2.8299999999999996, 2.7585714285714285, 2.661428571428572, 3.014285714285714, 0.09857142857142856, 2.1828571428571424, 0.4114285714285714, 0.43714285714285717, 2.527142857142857, 3.637142857142858, 3.325714285714286, 1.8885714285714283, 0.4642857142857143, 2.575714285714286, 3.024285714285714, 3.798571428571429, 0.5085714285714286, 3.1642857142857146, 3.3685714285714288, 2.761428571428571, 3.1185714285714283, 3.1642857142857146, 3.1371428571428575, 3.222857142857143, 3.2857142857142856, 3.22, 3.551428571428571, 1.7957142857142858, 3.36, 0.3385714285714286, 2.6814285714285715, 2.5742857142857143, 2.982857142857143, 2.822857142857143, 2.96, 0.5, 3.0085714285714285, 3.8971428571428572, 0.7428571428571429, 3.351428571428571, 2.6699999999999995, 3.2614285714285716, 1.5971428571428572, 1.082857142857143, 3.0657142857142854, 3.712857142857143, 3.394285714285714, 3.292857142857143, 0.5514285714285714, 2.555714285714285, 1.6014285714285716, 2.027142857142857, 1.3442857142857143, 3.542857142857143, 3.565714285714286, 0.6585714285714285, 2.685714285714286, 2.505714285714286, 2.764285714285714, 1.4042857142857146, 1.6771428571428573, 1.3014285714285714, 3.152857142857143, 2.891428571428572, 2.8314285714285714, 1.447142857142857, 2.5071428571428567, 3.2728571428571427, 2.687142857142857, 2.332857142857143, 0.4557142857142857, 2.7485714285714287, 3.617142857142857, 2.897142857142857, 2.6128571428571425, 2.3085714285714287, 2.607142857142857, 2.0585714285714287, 0.5971428571428571, 1.5442857142857143, 2.762857142857143, 2.705714285714286, 3.21, 3.0814285714285714, 3.5928571428571425, 1.337142857142857, 3.8, 1.5600000000000003, 2.8285714285714287, 1.4657142857142857, 3.6714285714285717, 2.737142857142857, 2.857142857142857, 2.962857142857143, 2.15, 3.457142857142857, 3.8285714285714283, 2.4685714285714284, 3.492857142857143, 0.4828571428571428, 3.408571428571429, 3.377142857142857, 2.2214285714285715, 2.69, 2.367142857142857, 2.562857142857143, 2.5385714285714287, 2.88, 3.337142857142857, 3.2085714285714286, 3.5957142857142856, 3.2014285714285715, 3.1042857142857145, 0.4471428571428571, 2.587142857142857, 2.07, 3.062857142857143, 1.317142857142857, 2.935714285714286, 0.6857142857142857, 1.9614285714285715, 0.982857142857143, 3.5814285714285714, 2.2600000000000002, 0.43857142857142856, 2.224285714285714, 3.1585714285714284, 3.565714285714286, 3.718571428571429, 2.412857142857143, 2.61, 3.0157142857142856, 3.8757142857142854, 2.1585714285714284, 1.8028571428571427, 2.3785714285714286, 3.167142857142857, 0.08, 3.972857142857143, 3.287142857142857, 2.5942857142857143, 3.7600000000000002, 2.5785714285714287, 3.164285714285714, 2.8200000000000003, 2.882857142857143, 3.8228571428571425, 2.3742857142857146, 2.4414285714285713, 1.3342857142857143, 3.1457142857142864, 2.912857142857143, 2.9828571428571427, 3.025714285714286, 3.288571428571429, 1.9185714285714286, 1.97, 0.3842857142857143, 0.5714285714285714, 1.7442857142857144, 3.5042857142857144, 2.662857142857143, 2.202857142857143, 2.5685714285714285, 0.3657142857142857, 3.29, 3.2085714285714286, 2.507142857142857, 3.3357142857142854, 2.347142857142857, 1.76, 0.33, 3.1442857142857146, 2.7399999999999998, 2.7742857142857145, 3.8200000000000003, 0.4642857142857143, 3.3842857142857143, 3.5357142857142856, 3.5914285714285716, 3.128571428571429, 3.2028571428571433, 0.6528571428571429, 0.2885714285714286, 3.5214285714285714, 3.3599999999999994, 3.0657142857142854, 1.4228571428571428, 2.7785714285714285, 3.3485714285714288, 2.005714285714286, 1.5642857142857143, 1.0214285714285716, 3.7842857142857147, 3.0185714285714282, 0.33999999999999997, 3.1714285714285713, 2.6514285714285712, 3.177142857142857, 1.78, 2.8942857142857146, 3.2042857142857146, 1.0814285714285714, 0.19714285714285712, 2.3871428571428566, 2.3442857142857143, 3.3871428571428575, 2.39, 2.0500000000000003, 2.38, 3.7342857142857144, 0.4585714285714286, 3.2828571428571425, 3.6714285714285713, 3.3357142857142854, 1.5957142857142854, 3.761428571428571, 3.3814285714285717, 2.162857142857143, 0.5057142857142857, 0.5971428571428571, 2.1514285714285712, 3.2185714285714284, 2.6828571428571424, 2.25, 2.6914285714285713, 3.44, 3.0628571428571427, 1.3414285714285712, 2.9385714285714286, 3.2714285714285714, 2.5300000000000002, 2.874285714285714, 3.1042857142857145, 1.5685714285714287, 2.505714285714286, 3.508571428571429, 2.781428571428571, 2.9014285714285712, 3.5728571428571425, 3.4457142857142853, 3.4814285714285718, 2.02, 3.5557142857142856, 1.9971428571428569, 3.0042857142857144, 2.62, 0.7057142857142856, 3.414285714285714, 2.478571428571428, 3.9528571428571424, 2.8485714285714288, 3.0300000000000002, 2.924285714285714, 1.1642857142857144, 2.3657142857142857, 2.3214285714285716, 3.052857142857143, 3.5171428571428573, 2.9699999999999998, 2.9699999999999998, 3.1814285714285715, 3.568571428571428, 3.25, 2.9842857142857144, 1.3742857142857143, 3.0628571428571427, 0.09, 3.3, 3.728571428571428, 0.7185714285714285, 2.71, 3.2357142857142853, 2.7728571428571422, 3.14, 2.8099999999999996, 2.4099999999999997, 2.34, 2.802857142857143, 3.764285714285714, 2.6114285714285717, 2.367142857142857, 0.7142857142857143, 2.5785714285714283, 3.535714285714286, 1.532857142857143, 2.924285714285715, 2.3700000000000006, 2.802857142857143, 2.668571428571429, 0.8728571428571428, 1.8442857142857143, 0.8514285714285715, 3.101428571428571, 1.635714285714286, 3.4371428571428573, 0.5828571428571429, 2.4642857142857144, 3.2942857142857145, 2.6185714285714283, 2.904285714285714, 3.738571428571429, 3.892857142857143, 0.09, 0.6614285714285714, 2.847142857142857, 0.32142857142857145, 1.5557142857142858, 0.3757142857142857, 2.35, 2.184285714285714, 1.2357142857142858, 1.5628571428571425, 1.5942857142857143, 2.7471428571428573, 2.682857142857143, 3.5985714285714283, 1.5899999999999999, 1.122857142857143, 1.48, 3.2971428571428567, 0.8499999999999999, 0.9185714285714285, 3.4385714285714286, 2.815714285714286, 0.4614285714285714, 0.7357142857142858, 2.6514285714285717, 3.0271428571428567, 0.3057142857142857, 2.094285714285714, 0.7100000000000001, 2.577142857142857, 3.301428571428572, 0.49857142857142855, 3.301428571428571, 2.3457142857142856, 0.18714285714285714, 3.2657142857142856, 1.9028571428571428, 1.6557142857142857, 3.5014285714285713, 3.2657142857142856, 1.2685714285714287, 0.16142857142857142, 2.275714285714286, 2.1714285714285713, 3.555714285714285, 3.3871428571428575, 1.1185714285714285, 2.744285714285714, 2.704285714285714, 2.2757142857142862, 3.1114285714285717, 0.4557142857142858, 3.551428571428572, 3.344285714285714, 3.487142857142857, 1.4314285714285713, 2.77, 2.6885714285714286, 3.5100000000000002, 3.5528571428571425, 3.3714285714285714, 3.4842857142857144, 2.1028571428571428, 0.48142857142857143, 2.2971428571428576, 3.5385714285714287, 3.487142857142857, 2.8657142857142857, 2.244285714285714, 1.9285714285714286, 3.157142857142857, 2.932857142857143, 2.8728571428571428, 0.8428571428571429, 1.502857142857143, 2.1785714285714284, 3.4257142857142853, 2.858571428571428, 2.5742857142857143, 2.1614285714285715, 0.5728571428571428, 2.5471428571428567, 1.9271428571428568, 2.985714285714286, 3.0028571428571427, 3.3214285714285716, 3.615714285714286, 3.8728571428571428, 3.4085714285714284, 2.9385714285714286, 0.09285714285714286, 3.4142857142857146, 3.4714285714285715, 2.8514285714285714, 1.8414285714285714, 1.7442857142857144, 1.0, 3.6785714285714293, 3.3542857142857145, 2.132857142857143, 0.10714285714285714, 3.121428571428571, 3.3342857142857136, 2.6714285714285713, 0.35000000000000003, 3.412857142857143, 3.4157142857142864, 3.552857142857143, 3.0457142857142854, 3.7985714285714285, 2.8685714285714283, 3.1585714285714284, 2.7399999999999998, 1.625714285714286, 0.8585714285714285, 2.9199999999999995, 2.6371428571428566, 2.0042857142857144, 3.3300000000000005, 0.7885714285714285, 3.4699999999999998, 2.1414285714285715, 3.0814285714285714, 2.8328571428571427, 2.255714285714286, 2.5614285714285714, 1.3228571428571432, 1.1871428571428573, 3.582857142857143, 2.2914285714285714, 3.807142857142857, 2.781428571428571, 3.934285714285714, 2.7342857142857144, 2.974285714285714, 2.9314285714285715, 2.782857142857143, 3.7857142857142856, 3.4142857142857146, 2.661428571428572, 3.687142857142857, 2.9171428571428573, 2.9171428571428573, 2.8728571428571428, 2.9357142857142855, 2.7671428571428573, 1.725714285714286, 2.8814285714285712, 3.274285714285714, 2.4585714285714286, 2.5071428571428567, 3.064285714285714, 3.045714285714286, 0.2671428571428572, 2.89, 3.255714285714286, 2.867142857142857, 2.7285714285714286, 2.7171428571428575, 2.9571428571428577, 2.8871428571428575, 1.6914285714285715, 3.2314285714285718, 3.0542857142857143, 2.6442857142857146, 3.1271428571428572, 2.498571428571428, 2.0485714285714285, 3.3714285714285714, 3.617142857142857, 2.025714285714286, 2.0799999999999996, 2.8685714285714288, 3.6571428571428575, 2.6271428571428572, 0.22571428571428573, 2.455714285714286, 2.7085714285714286, 1.9957142857142858, 2.4385714285714286, 3.9285714285714284, 2.9528571428571424, 2.6942857142857144, 2.5714285714285716, 2.8814285714285712, 3.5471428571428567, 3.3871428571428575, 0.7557142857142857, 0.7485714285714286, 2.4914285714285715, 0.30428571428571427, 3.402857142857143, 3.278571428571429, 3.1957142857142857, 2.867142857142857, 0.7528571428571428, 0.5728571428571428, 1.0614285714285714, 3.015714285714286, 1.7742857142857142, 3.31, 3.4328571428571424, 3.6014285714285714, 2.6585714285714284, 2.9714285714285715, 1.7057142857142857, 3.3442857142857148, 3.005714285714286, 3.067142857142857, 2.32, 1.8728571428571428, 2.8557142857142854, 2.6714285714285713, 2.3957142857142855, 2.154285714285714, 2.6371428571428575, 0.7957142857142857, 3.101428571428571, 3.902857142857143, 0.2057142857142857, 3.1342857142857143, 3.1314285714285712, 0.4471428571428571, 1.3971428571428572, 1.41, 3.0685714285714285, 2.2814285714285716, 1.1528571428571426, 2.954285714285714, 1.6942857142857142, 1.8014285714285714, 1.3071428571428572, 3.3671428571428565, 0.6814285714285714, 3.225714285714286, 0.5814285714285715, 3.392857142857143, 3.238571428571429, 3.395714285714285, 3.4757142857142855, 0.4828571428571428, 3.4357142857142864, 3.084285714285715, 0.7442857142857143, 3.141428571428572, 0.32285714285714284, 0.9357142857142857, 3.2985714285714285, 2.2585714285714285, 2.431428571428572, 1.5471428571428572, 3.441428571428571, 0.8071428571428572, 3.415714285714286, 2.9314285714285715, 2.8328571428571427, 3.608571428571428, 0.4042857142857143, 3.2671428571428573, 0.7742857142857142, 2.0028571428571427, 3.1757142857142857, 1.7542857142857142, 3.1157142857142857, 2.5399999999999996, 1.9257142857142853, 2.6314285714285717, 3.1614285714285715, 1.1814285714285713, 0.3485714285714286, 0.5028571428571429, 2.817142857142857, 0.8542857142857142, 0.647142857142857, 2.9628571428571426, 2.725714285714286, 0.4642857142857143, 2.3728571428571428, 2.6914285714285713, 3.8028571428571425, 0.46714285714285714, 2.6771428571428575, 1.004285714285714, 2.262857142857143, 1.6185714285714283, 0.8928571428571429, 0.4757142857142857, 2.9442857142857144, 0.5185714285714286, 1.16, 3.117142857142857, 0.7928571428571428, 3.2528571428571427, 2.6, 2.8871428571428575, 2.3528571428571428, 0.7614285714285715, 1.0599999999999998, 0.6785714285714286, 1.977142857142857, 1.4371428571428573, 3.4057142857142857, 2.8757142857142854, 1.7785714285714287, 3.1900000000000004, 2.0885714285714285, 3.1142857142857143, 3.4657142857142857, 3.072857142857143, 1.9914285714285713, 0.9871428571428572, 2.8071428571428574, 0.18714285714285714, 1.3242857142857143, 2.9957142857142856, 2.52, 2.0828571428571427, 0.27714285714285714, 2.73, 3.32, 3.1914285714285713, 1.8557142857142856, 2.337142857142857, 2.4214285714285717, 0.22285714285714286, 2.06, 1.4685714285714286, 2.8314285714285714, 0.19142857142857145, 1.6728571428571428, 3.9814285714285718, 0.17857142857142858, 3.075714285714286, 2.4885714285714284, 0.8542857142857142, 2.7528571428571427, 3.1914285714285713, 2.85, 2.9571428571428577, 3.084285714285714, 0.16999999999999998, 0.18285714285714286, 0.35714285714285715, 1.9299999999999997, 0.23285714285714285, 2.077142857142857, 0.8414285714285715, 2.6271428571428572, 0.9400000000000001, 0.29714285714285715, 0.31285714285714283, 2.0114285714285716], 42, 203, 245)\n"
          ]
        }
      ]
    },
    {
      "cell_type": "markdown",
      "metadata": {
        "id": "4NqNccrKjjtM"
      },
      "source": [
        "***Course Credits**"
      ]
    },
    {
      "cell_type": "code",
      "metadata": {
        "id": "2Y1R_BNkpU5k"
      },
      "source": [
        "#CSE\n",
        "CSE191=[16,14,14,13,14,12,11]\n",
        "CSE183=[13,13,13,14,14,12,14]\n",
        "CSE182=[12,11,13,11,13,14,14]\n",
        "CSE181=[13,13,13,14,14,15,14]\n",
        "CSE173=[13,13,13,14,14,12,14]\n",
        "CSE172=[13,13,13,14,14,12,14]\n",
        "CSE171=[13,13,13,14,14,12,14]\n",
        "CSE163=[13,13,13,14,14,12,14]\n",
        "CSE162=[13,13,13,14,14,12,14]\n",
        "CSE161=[13,13,13,14,11,12,14]\n",
        "CSE153=[13,13,13,14,14,12,14]\n",
        "CSE152=[13,13,13,14,15,11,14]\n",
        "CSE151=[13,13,13,14,14,12,14]\n",
        "#BBA\n",
        "BBA191=[12,12,12,12,12,12,12]\n",
        "BBA183=[12,12,12,12,12,12,12]\n",
        "BBA181=[12,12,12,12,12,12,12]\n",
        "BBA173=[12,12,12,12,12,12,12]\n",
        "BBA172=[12,12,12,12,12,12,12]\n",
        "BBA171=[12,12,12,12,12,12,12]\n",
        "BBA163=[12,12,12,12,12,12,12]\n",
        "BBA162=[12,12,12,12,12,12,12]\n",
        "BBA161=[12,12,12,12,12,12,12]\n",
        "BBA153=[12,12,12,12,12,12,12]\n",
        "BBA152=[12,12,12,12,12,12,12]\n",
        "BBA151=[12,12,12,12,12,12,12]\n",
        "#LLB\n",
        "LLB191=[12,12,12,12,12,12,12]\n",
        "LLB183=[12,12,12,12,12,12,12]\n",
        "LLB173=[12,12,12,12,12,12,12]\n",
        "LLB172=[12,12,12,12,12,12,12]\n",
        "LLB171=[12,12,12,12,12,12,12]\n",
        "LLB163=[12,12,12,12,12,12,12]\n",
        "LLB162=[12,12,12,12,12,12,12]\n",
        "LLB161=[12,12,12,12,12,12,12]\n",
        "LLB153=[12,12,12,12,12,12,12]\n",
        "LLB152=[12,12,12,12,12,12,12]\n",
        "LLB151=[12,12,12,12,12,12,12]\n",
        "#EEE\n",
        "EEE191=[13,12,13,14,12,12,14]\n",
        "EEE183=[13,13,13,14,14,13,14]\n",
        "EEE181=[12,13,14,14,12,14,12]\n",
        "EEE173=[14,12,13,14,14,14,12]\n",
        "EEE172=[11,13,13,13,12,14,14]\n",
        "EEE171=[11,13,13,13,12,14,14]\n",
        "EEE163=[11,10,13,13,12,14,14]\n",
        "EEE162=[14,13,13,13,13,12,14]\n",
        "EEE161=[14,13,13,13,12,14,12]\n",
        "EEE153=[14,13,13,13,12,14,12]\n",
        "EEE152=[14,13,13,13,15,11,15]\n",
        "EEE151=[14,13,13,13,12,14,12]"
      ],
      "execution_count": null,
      "outputs": []
    },
    {
      "cell_type": "code",
      "metadata": {
        "id": "-C0HyAMVjpQ6"
      },
      "source": [
        "def cgpa(semester_credit:list, semester_result:list):\n",
        "    total = 0\n",
        "    for first,last in zip(semester_credit,semester_result):\n",
        "        total += first*last\n",
        "\n",
        "    return total/sum(semester_credit)"
      ],
      "execution_count": null,
      "outputs": []
    },
    {
      "cell_type": "markdown",
      "metadata": {
        "id": "hIh7sarLHPeX"
      },
      "source": [
        "\n",
        "\n",
        "*   List item\n",
        "*   List item\n",
        "\n"
      ]
    },
    {
      "cell_type": "code",
      "metadata": {
        "id": "K1eTSGRt0Rsw"
      },
      "source": [
        "credit = [3.91,4,4,4,4,4,4,4]\n",
        "result = cgpa(CSE191,credit)\n",
        "print(result)"
      ],
      "execution_count": null,
      "outputs": []
    },
    {
      "cell_type": "code",
      "metadata": {
        "id": "uo40uM6g15Ky"
      },
      "source": [
        ""
      ],
      "execution_count": null,
      "outputs": []
    }
  ]
}